{
 "cells": [
  {
   "cell_type": "markdown",
   "metadata": {},
   "source": [
    "# Weight and connectivity scaling\n",
    "### The problem\n",
    "Increasing number of classes means reducing the size of\n",
    "non-overlapping segments per class, which leads to a reduction in per-sample activity.\n",
    "This skews results across tasks and, at high $N_\\mathrm{class}$, sample activity is\n",
    "insufficient to activate KCs.\n",
    "\n",
    "### Proposed Solution: Weight and Connectivity Scaling\n",
    "As $N_\\mathrm{class}$ increases, and segment size decreases, PN-KC weights are scaled\n",
    "to account for the reduction in per-sample activity. PN-KC weights are formulated as\n",
    "follows:\n",
    "\n",
    "\\begin{equation}\n",
    "w_{ij} = w = \\frac{\\omega}{kN\\rho_f\\rho_c}\n",
    "\\end{equation}\n",
    "\n",
    "$\\rho_f$ is the per-sample proportion of active PNs, $\\rho_c$ is the proportion of\n",
    "pre-synaptic PNs per KC, and $\\omega$ is a constant."
   ]
  },
  {
   "cell_type": "code",
   "execution_count": 32,
   "metadata": {
    "pycharm": {
     "name": "#%%\n"
    }
   },
   "outputs": [],
   "source": [
    "import pickle\n",
    "import matplotlib.pyplot as plt\n",
    "import numpy as np\n",
    "\n",
    "plt.style.use('Solarize_Light2')"
   ]
  },
  {
   "cell_type": "code",
   "execution_count": 73,
   "metadata": {
    "pycharm": {
     "name": "#%%\n"
    }
   },
   "outputs": [],
   "source": [
    "n_classes = [2,4,6,8,10]\n",
    "result_groups = { i:pickle.load(open(f'spikes_{i}.p', 'rb')) for i in n_classes }"
   ]
  },
  {
   "cell_type": "code",
   "execution_count": 76,
   "metadata": {
    "pycharm": {
     "name": "#%%\n"
    }
   },
   "outputs": [],
   "source": [
    "# Calculate per-input rates\n",
    "def trains_to_rates(trains, duration, n_iter):\n",
    "    seconds = int(duration / 1000) # ms to seconds\n",
    "    rates = []\n",
    "    for s in range(seconds):\n",
    "        t1 = 1000*s\n",
    "        t2 = 1000*(s+1)\n",
    "        slice_rates = np.array([ len([t for t in train if t1 <= t < t2]) for train in trains ])\n",
    "        rates.append(slice_rates)\n",
    "\n",
    "    rates = np.array(rates) / n_iter\n",
    "    rates = (rates - rates.min()) / (rates.max() - rates.min())\n",
    "\n",
    "    return rates\n",
    "\n",
    "def get_rates(results):\n",
    "    duration, n_iter = results['duration'], results['n_iter']\n",
    "    seconds = int(duration / 1000)\n",
    "    rates = np.array([ trains_to_rates(trial, duration, n_iter) for trial in results['kc'] ])\n",
    "\n",
    "    return rates\n",
    "\n",
    "def population_sparseness(rate_group):\n",
    "    per_trial = []\n",
    "    for rates in rate_group:\n",
    "        pop_sp = [ len(resps[(resps > 0)&(resps < .5)])/len(resps[resps>0]) for resps in rates ]\n",
    "        per_trial.append(pop_sp)\n",
    "\n",
    "    return np.array(per_trial).mean(axis=0)\n",
    "\n",
    "\n",
    "grs = [ get_rates(g) for g in result_groups.values() ]\n",
    "gsps = [ population_sparseness(gr) for gr in grs ]"
   ]
  },
  {
   "cell_type": "code",
   "execution_count": 78,
   "metadata": {
    "pycharm": {
     "name": "#%%\n"
    }
   },
   "outputs": [
    {
     "data": {
      "image/png": "[encoded data removed]",
      "text/plain": [
       "<Figure size 432x288 with 1 Axes>"
      ]
     },
     "metadata": {},
     "output_type": "display_data"
    }
   ],
   "source": [
    "plt.boxplot(gsps)\n",
    "plt.xticks(np.arange(0,len(n_classes)+1), [''] + n_classes)\n",
    "plt.xlabel(r\"$N_\\mathrm{class}$\")\n",
    "plt.ylabel(r\"$S_\\mathrm{P}$\")\n",
    "plt.show()"
   ]
  },
  {
   "cell_type": "code",
   "execution_count": null,
   "metadata": {
    "pycharm": {
     "name": "#%%\n"
    }
   },
   "outputs": [],
   "source": []
  }
 ],
 "metadata": {
  "kernelspec": {
   "display_name": "Python 3",
   "language": "python",
   "name": "python3"
  },
  "language_info": {
   "codemirror_mode": {
    "name": "ipython",
    "version": 3
   },
   "file_extension": ".py",
   "mimetype": "text/x-python",
   "name": "python",
   "nbconvert_exporter": "python",
   "pygments_lexer": "ipython3",
   "version": "3.8.6"
  }
 },
 "nbformat": 4,
 "nbformat_minor": 1
}
