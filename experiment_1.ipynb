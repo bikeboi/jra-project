{
 "cells": [
  {
   "cell_type": "markdown",
   "metadata": {},
   "source": [
    "# Experiment 1 - Split Connectivity [WIP]\n",
    "\n",
    "## Objective\n",
    "[TODO]\n",
    "\n",
    "## Model\n",
    "Every neuron in the model is a leaky integrate-and-fire neuron with an exponetial post-synaptic curve.\n",
    "\n",
    "### Inputs\n",
    "Each image is sourced from a single alphabet of the Omniglot dataset, with no overlapping characters. For the sake of this experiment, we treat each character as a sole member of its own class. This way $N_{class} = 2$ means our random copies of either one of 2 image vectors. To add a small amount of variance to the samples, a small amount of uniform noise $\\epsilon_{noise} \\in \\mathcal{U(0,25)}$ (milliseconds) is added to each input spike.\n",
    "\n",
    "Inputs are modelled as $N_{PN} = d_{input}$ spiking Projection Neurons (PN), where $d_{input}$ is the dimensionality of the flattened image vectors. Each image is encoded as a simultaneous spiking of all active (pixel value = 1) neurons, with some jitter, within a 50ms window.\n",
    "\n",
    "### Layers\n",
    "For $N_{class} = 2$, half the iKCs are connected to the neurons active in class A, and the rest to those active in class B. For $N_{class} > 2$, connectivity is made with $p=0.15$\n",
    "\n",
    "iKCs feed into eKCs with all to all connectivity and an additive STDP mechanism. The number of neurons in each layer are $N_{iKC}$ and $N_{eKC}$ respectively, where:\n",
    "\\begin{align}\n",
    "N_{iKC} &= 2\\cdot d_{input}\\\\\n",
    "N_{eKC} &= \\lceil \\log_2N_{class} \\rceil & (1)\n",
    "\\end{align}\n",
    "\n",
    "The number of eKC neurons is thus approximately the minimal amount of neurons needed to represent every class by co-occurrence of instantaneous$^1$ spikes.\n",
    "\n",
    "## Methodology and Evaluation\n",
    "Inputs are sampled randomly from $N_{class}$ separate classes and shown to the model at 50ms intervals. $N_{sample}$ samples are shown to the model for the duration of the simulation, starting at the first 50ms onwards. iKC and eKC activity as a response to input spikes is recorded within these time frames. Every simulation step we calculate the average inter and intra class distances, $D_{inter}$ and $D_{intra}$, with a cosine distance metric, modified for numeric stability (in the case of no spiking neurons):\n",
    "\n",
    "$$\n",
    "\\hat{D}_C(a,b) = D_C(a + \\epsilon_{d}, b + \\epsilon_{d}) \n",
    "$$\n",
    "\n",
    "--\n",
    "\n",
    "$^1$ Within a 50ms time window\n",
    "\n"
   ]
  },
  {
   "cell_type": "code",
   "execution_count": null,
   "metadata": {},
   "outputs": [],
   "source": [
    "# Add my library\n",
    "import sys\n",
    "import os\n",
    "\n",
    "sys.path.append(os.getcwd() + \"/lib\")"
   ]
  },
  {
   "cell_type": "code",
   "execution_count": 12,
   "metadata": {},
   "outputs": [],
   "source": [
    "import numpy as np\n",
    "import scipy.signal as signal\n",
    "import matplotlib.pyplot as plt\n",
    "import pynn_genn as sim\n",
    "from pyNN.random import NumpyRNG\n",
    "\n",
    "import lib.simulation as S\n",
    "import lib.metrics as metrics\n",
    "from lib.model import build_PN, build_population\n",
    "from lib.data import Alphabet\n",
    "from lib.embedding import generate_spike_arrays"
   ]
  },
  {
   "cell_type": "code",
   "execution_count": 32,
   "metadata": {},
   "outputs": [
    {
     "name": "stdout",
     "output_type": "stream",
     "text": [
      "Flattened: (2, 729)\n"
     ]
    },
    {
     "data": {
      "image/png": "[encoded data removed]",
      "text/plain": [
       "<Figure size 432x288 with 2 Axes>"
      ]
     },
     "metadata": {},
     "output_type": "display_data"
    }
   ],
   "source": [
    "# Get first two characters of \"Alphabet of the Magi\" alphabet\n",
    "data_dir = \"omniglot/python/images_background\"\n",
    "dataset = Alphabet(data_dir, 0)\n",
    "samples = dataset[:2,0]\n",
    "\n",
    "# Downsample\n",
    "samples = samples[:,::4,::4]\n",
    "\n",
    "# Binarize\n",
    "samples[samples >= 0.5] = 1.0\n",
    "samples[samples < 0.5] = 0.0 \n",
    "\n",
    "# Invert (active is drawing not background)\n",
    "samples = 1 - samples\n",
    "\n",
    "# Preview\n",
    "fig, axes = plt.subplots(1,2)\n",
    "for ax,img in zip(axes, samples):\n",
    "    ax.imshow(img, cmap='gray')\n",
    "    ax.set_xticks([])\n",
    "    ax.set_yticks([])\n",
    "\n",
    "# Flatten\n",
    "samples = samples.reshape(2, -1)\n",
    "print(\"Flattened:\", samples.shape)\n"
   ]
  },
  {
   "cell_type": "code",
   "execution_count": 33,
   "metadata": {},
   "outputs": [],
   "source": [
    "def setup(images, classes, params, seed=None, silent=True):\n",
    "    def split_PN_iKC_model(inputs, **params):\n",
    "\n",
    "        # Populations\n",
    "        p_params = params['population']\n",
    "        pop_PN = build_PN(inputs)\n",
    "        n_iKC = len(pop_PN) * 10\n",
    "        pop_iKC = build_population(n_iKC, params['neuron'], \"iKC\")\n",
    "        pop_eKC = build_population(p_params['n_eKC'], params['neuron'], 'eKC')\n",
    "\n",
    "        # Connections\n",
    "        ixs = np.arange(images.shape[1])\n",
    "        active_A, active_B = np.round(ixs * images[0]).astype('int'), np.round(ixs * images[1]).astype('int')\n",
    "\n",
    "        PN_A, PN_B = pop_PN[active_A], pop_PN[active_B]\n",
    "\n",
    "        iKC_A, iKC_B = pop_iKC[:int(n_iKC/2)], pop_iKC[int(n_iKC/2):]\n",
    "\n",
    "        # Split connections\n",
    "        PN_iKC_A = sim.Projection(PN_A, iKC_A,\n",
    "                                  sim.AllToAllConnector(),\n",
    "                                  sim.StaticSynapse(weight=0.25, delay=2.0),\n",
    "                                  receptor_type=\"excitatory\",\n",
    "                                  label=\"PN_iKC_A\")\n",
    "\n",
    "        PN_iKC_B = sim.Projection(PN_B, iKC_B,\n",
    "                                  sim.AllToAllConnector(),\n",
    "                                  sim.StaticSynapse(weight=0.25, delay=2.0),\n",
    "                                  receptor_type=\"excitatory\",\n",
    "                                  label=\"PN_iKC_B\")\n",
    "\n",
    "        # iKCs to eKCs\n",
    "        iKC_eKC = sim.Projection(pop_iKC, pop_eKC,\n",
    "                                sim.AllToAllConnector(),\n",
    "                                sim.STDPMechanism(**params['plasticity']),\n",
    "                                receptor_type='excitatory',\n",
    "                                label=\"iKC_eKC\")\n",
    "\n",
    "        return {\n",
    "            \"model\": sim.Assembly(pop_PN, pop_iKC, pop_eKC),\n",
    "            \"projections\": {\n",
    "                \"PN_iKC_A\": PN_iKC_A,\n",
    "                \"PN_iKC_B\": PN_iKC_B,\n",
    "                \"iKC_eKC\": iKC_eKC\n",
    "            }\n",
    "        }\n",
    "\n",
    "\n",
    "    intervals = S.gen_intervals(params['t_snapshot'], params['n_samples'], params['t_snapshot'])\n",
    "    input_spikes, labels = generate_spike_arrays(\n",
    "        images, classes,\n",
    "        intervals,\n",
    "        params['t_snapshot'],\n",
    "        params['snapshot_noise']\n",
    "    )\n",
    "    \n",
    "    MB  = S.setup_experiment(input_spikes, params, split_PN_iKC_model)\n",
    "\n",
    "    model, projections = MB['model'], MB['projections']\n",
    "    \n",
    "    if not silent:\n",
    "        print(\"Populations\")\n",
    "        print(\" n_PN:\", len(model.get_population('PN')))\n",
    "        print(\" n_iKC:\", len(model.get_population('iKC')))\n",
    "        print(\" n_eKC:\", len(model.get_population('eKC')))\n",
    "        print()\n",
    "        print(\"Projections\")\n",
    "        print(\" PN->iKC (A):\",projections['PN_iKC_A'].shape)\n",
    "        print(\" PN->iKC (B):\",projections['PN_iKC_B'].shape)\n",
    "        print(\" iKC->eKC   :\",projections['iKC_eKC'].shape)\n",
    "    \n",
    "    return MB, labels, intervals"
   ]
  },
  {
   "cell_type": "code",
   "execution_count": 34,
   "metadata": {},
   "outputs": [
    {
     "name": "stderr",
     "output_type": "stream",
     "text": [
      "WARNING:root:PopulationView can contain only once each ID, duplicated IDs are remove\n",
      "WARNING:root:PopulationView can contain only once each ID, duplicated IDs are remove\n"
     ]
    }
   ],
   "source": [
    "# Inputs\n",
    "INPUTS = samples\n",
    "CLASSES = np.arange(samples.shape[0])\n",
    "\n",
    "# Constant params\n",
    "T_SNAPSHOT = 50\n",
    "DELTA_T = 0.1\n",
    "\n",
    "D_INPUT = INPUTS.shape[1]\n",
    "N_CLASS = INPUTS.shape[0]\n",
    "N_SAMPLES = 20\n",
    "N_EKC = int(np.ceil(np.log2(N_CLASS)))\n",
    "\n",
    "PARAMS = S.default_params(DELTA_T, T_SNAPSHOT, D_INPUT, N_SAMPLES, N_EKC)\n",
    "\n",
    "# Setup experiment\n",
    "MB, labels, intervals  = setup(INPUTS, CLASSES, PARAMS)"
   ]
  },
  {
   "cell_type": "code",
   "execution_count": 35,
   "metadata": {},
   "outputs": [
    {
     "name": "stdout",
     "output_type": "stream",
     "text": [
      "Running experiment\n",
      "\n",
      "[ ########################################################################### ] 100% \n",
      "\n",
      "Total Steps: 1100ms\n"
     ]
    }
   ],
   "source": [
    "# Run the simulation\n",
    "results = S.run_experiment(MB, intervals, PARAMS)"
   ]
  },
  {
   "cell_type": "code",
   "execution_count": 36,
   "metadata": {},
   "outputs": [],
   "source": [
    "def analysis(res):\n",
    "    eKC_activity = res['activity']['eKC'][0]\n",
    "    \n",
    "    inter = metrics.interclass(eKC_activity, labels, D=metrics.cosine_distance)\n",
    "    \n",
    "    return inter.mean()\n",
    "    "
   ]
  },
  {
   "cell_type": "code",
   "execution_count": 37,
   "metadata": {},
   "outputs": [
    {
     "data": {
      "text/plain": [
       "2.220446049250313e-16"
      ]
     },
     "execution_count": 37,
     "metadata": {},
     "output_type": "execute_result"
    }
   ],
   "source": [
    "# Analysis across runs\n",
    "analysis(results)"
   ]
  },
  {
   "cell_type": "code",
   "execution_count": 8,
   "metadata": {},
   "outputs": [
    {
     "name": "stdout",
     "output_type": "stream",
     "text": [
      "Ending Simulation...\n"
     ]
    }
   ],
   "source": [
    "S.cleanup()"
   ]
  },
  {
   "cell_type": "code",
   "execution_count": null,
   "metadata": {},
   "outputs": [],
   "source": []
  }
 ],
 "metadata": {
  "kernelspec": {
   "display_name": "Python 3.8.3 64-bit ('code': venv)",
   "language": "python",
   "name": "python38364bitcodevenv9c3ce1c2aa7044b5be0497782b462c16"
  },
  "language_info": {
   "codemirror_mode": {
    "name": "ipython",
    "version": 3
   },
   "file_extension": ".py",
   "mimetype": "text/x-python",
   "name": "python",
   "nbconvert_exporter": "python",
   "pygments_lexer": "ipython3",
   "version": "3.8.3"
  }
 },
 "nbformat": 4,
 "nbformat_minor": 4
}