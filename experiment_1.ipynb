{
 "cells": [
  {
   "cell_type": "code",
   "execution_count": 4,
   "metadata": {
    "tags": []
   },
   "outputs": [],
   "source": [
    "import matplotlib.pyplot as plt\n",
    "from util.data import Omniglot\n",
    "\n",
    "ROOT = \"data/omniglot\"\n",
    "dataset = Omniglot(ROOT)\n",
    "\n",
    "sample = dataset[0,0,1]"
   ]
  },
  {
   "cell_type": "code",
   "execution_count": 5,
   "metadata": {},
   "outputs": [
    {
     "output_type": "execute_result",
     "data": {
      "text/plain": "array([[1., 1., 1., ..., 1., 1., 1.],\n       [1., 1., 1., ..., 1., 1., 1.],\n       [1., 1., 1., ..., 1., 1., 1.],\n       ...,\n       [1., 1., 1., ..., 1., 1., 1.],\n       [1., 1., 1., ..., 1., 1., 1.],\n       [1., 1., 1., ..., 1., 1., 1.]])"
     },
     "metadata": {},
     "execution_count": 5
    }
   ],
   "source": [
    "sample"
   ]
  },
  {
   "cell_type": "code",
   "execution_count": 7,
   "metadata": {},
   "outputs": [
    {
     "output_type": "execute_result",
     "data": {
      "text/plain": "(-0.5, 104.5, 104.5, -0.5)"
     },
     "metadata": {},
     "execution_count": 7
    },
    {
     "output_type": "display_data",
     "data": {
      "text/plain": "<Figure size 432x288 with 1 Axes>",
      "image/svg+xml": "<?xml version=\"1.0\" encoding=\"utf-8\" standalone=\"no\"?>\n<!DOCTYPE svg PUBLIC \"-//W3C//DTD SVG 1.1//EN\"\n  \"http://www.w3.org/Graphics/SVG/1.1/DTD/svg11.dtd\">\n<!-- Created with matplotlib (https://matplotlib.org/) -->\n<svg height=\"251.281915pt\" version=\"1.1\" viewBox=\"0 0 258.152393 251.281915\" width=\"258.152393pt\" xmlns=\"http://www.w3.org/2000/svg\" xmlns:xlink=\"http://www.w3.org/1999/xlink\">\n <defs>\n  <style type=\"text/css\">\n*{stroke-linecap:butt;stroke-linejoin:round;}\n  </style>\n </defs>\n <g id=\"figure_1\">\n  <g id=\"patch_1\">\n   <path d=\"M 0 251.281915 \nL 258.152393 251.281915 \nL 258.152393 0 \nL 0 0 \nz\n\" style=\"fill:none;\"/>\n  </g>\n  <g id=\"axes_1\">\n   <g clip-path=\"url(#p3ced5cf3c9)\">\n    <image height=\"218\" id=\"image13382c5144\" transform=\"scale(1 -1)translate(0 -218)\" width=\"218\" x=\"33.2875\" xlink:href=\"data:image/png;base64,\niVBORw0KGgoAAAANSUhEUgAAANoAAADaCAYAAADAHVzbAAAABHNCSVQICAgIfAhkiAAABFFJREFUeJzt3dtuo1gARcFmNP//y8xDhBRl2nZs48XhUPXcF/dlsQPGZFnXdf0DfNQ/R78AuAKhQUBoEBAaBIQGAaFBQGgQEBoEhAYBoUFAaBAQGgSEBgGhQUBoEBAaBIQGAaFBQGgQEBoEhAYBoUFAaBAQGgSEBgGhQUBoEBAaBIQGAaFBQGgQEBoEhAYBoUFAaBAQGgSEBgGhQUBoEBAaBIQGAaFBQGgQEBoEhAYBoUFAaBAQGgSEBgGhQUBoEBAaBIQGAaFBQGgQEBoEhAaBf49+AfzdsixHv4T/Wdf16JdwWhYNAhbtF0ZclyO88vdgBb9YNAgIjY9alsVXBH+EBgnnaHc4ErMXiwYBoUFAaBAQGgSGvhjyt4sRV3kDdKQ/p4tC77NoEFjWgQ6dzxw5i5f929cz0F9hyi1Zv2fRIHDoOZqv/a9n+ze/2rJZNAjssmiW6Zq2VfLv/5hFg4DQeNu6rpc753qW0CAw9J0h3zlicmYWDQJvLdqnrzZZsXld7f00iwaBXy9a+V7JVY5ys/G+2m0WDQI3F604KlkursKiQeDmohVfb//8tS0cs7JoEHh41fHnypQLd+91MIervJ9m0SCwyzNDjnjfZKRnhmxmPyq/wnNXvlg0COxy9355Hnfr9/jEEdGdDuzFokFAaBD4yAc/b30ZV7w1MPtJNedk0SCQPsrg0dq88kjwnz/HsjEiiwaBoR7O88zl9Ec/xrIxEosGgaEWbXNvhZ69cmnZGIFFg8CQi3bPq7dF+ZApR7JoEDjdom3eveHXh0wpWTQInHbRNp/4KIuPxbA3iwaBaULzzfAY2TShwchOf4720xGPH7CkPGLRIDDdom2O+JQ33GLRIDDtot1i6cY0+6csLBoELrdot3w/klq3/XgI7ReLBgGL9oZZzyfYn0WDgEVjKEdcfSy+tZRFg4DQICA0Es9+jGlZlqneEhAaBIQGAaFB4PSX94tLs+zn2VuyZrnZ2KJBQGgc4moPUxIaBE5/jraXmd6z4TnFslo0CFxm0fZcrCudW4zi7FcfLRoEhMahrnL1UWgQOP05WvnwlysceUd31nM1iwaB0y/a5pPLdrajJ+OxaBCYZtE2ey6bJevM/qBViwaB6RZtY43mdrarjxYNAkJjKLPeKSI0CEx7jsY1fL9KOfISWjQICA0CQoOA0CCwrCOfQXJ5r9ySNeJ/aYsGAaExnRG/5ZPQICA0hjbLLVlCg4BbsBjCaOdUe7NoEBAa0xrp6qPQICA0pjfCsgkNAkKDgNAgIDQu48hzNaFBwJ0hDGGG+xnvsWgQEBoEhAYBoUFAaBAQGgSEBgGhQUBoEBAaBIQGAaFBQGgQEBoEhAYBoUFAaBAQGgSEBgGhQUBoEBAaBIQGAaFBQGgQEBoEhAYBoUFAaBAQGgSEBgGhQUBoEBAaBIQGAaFBQGgQEBoEhAYBoUFAaBAQGgSEBgGhQUBoEBAaBIQGgf8ALCoK71ZxN9EAAAAASUVORK5CYII=\" y=\"-9.40379\"/>\n   </g>\n  </g>\n </g>\n <defs>\n  <clipPath id=\"p3ced5cf3c9\">\n   <rect height=\"217.44\" width=\"217.44\" x=\"33.2875\" y=\"9.96379\"/>\n  </clipPath>\n </defs>\n</svg>\n",
      "image/png": "[encoded data removed]"
     },
     "metadata": {
      "needs_background": "light"
     }
    }
   ],
   "source": [
    "plt.imshow(sample, cmap='gray')\n",
    "plt.axis('off')"
   ]
  },
  {
   "cell_type": "code",
   "execution_count": null,
   "metadata": {},
   "outputs": [],
   "source": []
  }
 ],
 "metadata": {
  "language_info": {
   "codemirror_mode": {
    "name": "ipython",
    "version": 3
   },
   "file_extension": ".py",
   "mimetype": "text/x-python",
   "name": "python",
   "nbconvert_exporter": "python",
   "pygments_lexer": "ipython3",
   "version": "3.8.3-final"
  },
  "orig_nbformat": 2,
  "kernelspec": {
   "name": "python38364bitcodevenv9c3ce1c2aa7044b5be0497782b462c16",
   "display_name": "Python 3.8.3 64-bit ('code': venv)"
  }
 },
 "nbformat": 4,
 "nbformat_minor": 2
}